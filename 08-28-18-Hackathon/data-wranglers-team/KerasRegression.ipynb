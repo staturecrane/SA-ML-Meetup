{
 "cells": [
  {
   "cell_type": "code",
   "execution_count": 1,
   "metadata": {
    "collapsed": true
   },
   "outputs": [],
   "source": [
    "import itertools\n",
    "import os\n",
    "import math\n",
    "import numpy as np\n",
    "import pandas as pd\n",
    "import tensorflow as tf\n",
    "\n",
    "from sklearn.preprocessing import LabelEncoder\n",
    "from tensorflow import keras\n"
   ]
  },
  {
   "cell_type": "code",
   "execution_count": 2,
   "metadata": {
    "collapsed": true
   },
   "outputs": [],
   "source": [
    "layers = keras.layers\n",
    "\n",
    "path = \"./train.csv\"\n",
    "data = pd.read_csv(path)\n"
   ]
  },
  {
   "cell_type": "code",
   "execution_count": 3,
   "metadata": {
    "collapsed": true
   },
   "outputs": [],
   "source": [
    "data = data[pd.notnull(data['country'])]\n",
    "data = data[pd.notnull(data['points'])]\n",
    "data = data.drop(data.columns[0], axis=1)\n",
    "\n",
    "variety_threshold = 500 # drop anything that occurs less than this\n",
    "value_counts = data['variety'].value_counts()\n",
    "items_to_remove = value_counts[value_counts <= variety_threshold].index\n",
    "data.replace(items_to_remove, np.nan, inplace=True)\n",
    "data = data[pd.notnull(data['variety'])]"
   ]
  },
  {
   "cell_type": "code",
   "execution_count": 4,
   "metadata": {},
   "outputs": [],
   "source": [
    "train_size = int(len(data) * .8)\n"
   ]
  },
  {
   "cell_type": "code",
   "execution_count": 5,
   "metadata": {
    "collapsed": true
   },
   "outputs": [],
   "source": [
    "# Train features\n",
    "description_train = data['description'][:train_size]\n",
    "variety_train = data['variety'][:train_size]"
   ]
  },
  {
   "cell_type": "code",
   "execution_count": 6,
   "metadata": {
    "collapsed": true
   },
   "outputs": [],
   "source": [
    "# Train labels\n",
    "labels_train = data['points'][:train_size]"
   ]
  },
  {
   "cell_type": "code",
   "execution_count": 7,
   "metadata": {
    "collapsed": true
   },
   "outputs": [],
   "source": [
    "# Test features\n",
    "description_test = data['description'][train_size:]\n",
    "variety_test = data['variety'][train_size:]"
   ]
  },
  {
   "cell_type": "code",
   "execution_count": 8,
   "metadata": {
    "collapsed": true
   },
   "outputs": [],
   "source": [
    "# Test labels\n",
    "labels_test = data['points'][train_size:]"
   ]
  },
  {
   "cell_type": "code",
   "execution_count": 9,
   "metadata": {
    "collapsed": true
   },
   "outputs": [],
   "source": [
    "# Create a tokenizer to preprocess our text descriptions\n",
    "vocab_size = 12000 # This is a hyperparameter, experiment with different values for your dataset\n",
    "tokenize = keras.preprocessing.text.Tokenizer(num_words=vocab_size, char_level=False)\n",
    "tokenize.fit_on_texts(description_train) # only fit on train"
   ]
  },
  {
   "cell_type": "code",
   "execution_count": 10,
   "metadata": {
    "collapsed": true
   },
   "outputs": [],
   "source": [
    "# Wide feature 1: sparse bag of words (bow) vocab_size vector \n",
    "description_bow_train = tokenize.texts_to_matrix(description_train)\n",
    "description_bow_test = tokenize.texts_to_matrix(description_test)"
   ]
  },
  {
   "cell_type": "code",
   "execution_count": 11,
   "metadata": {
    "collapsed": true
   },
   "outputs": [],
   "source": [
    "# Wide feature 2: one-hot vector of variety categories\n",
    "\n",
    "# Use sklearn utility to convert label strings to numbered index\n",
    "encoder = LabelEncoder()\n",
    "encoder.fit(variety_train)\n",
    "variety_train = encoder.transform(variety_train)\n",
    "variety_test = encoder.transform(variety_test)\n",
    "num_classes = np.max(variety_train) + 1\n",
    "\n",
    "# Convert labels to one hot\n",
    "variety_train = keras.utils.to_categorical(variety_train, num_classes)\n",
    "variety_test = keras.utils.to_categorical(variety_test, num_classes)"
   ]
  },
  {
   "cell_type": "code",
   "execution_count": 12,
   "metadata": {
    "collapsed": true
   },
   "outputs": [],
   "source": [
    "# Define our wide model with the functional API\n",
    "bow_inputs = layers.Input(shape=(vocab_size,))\n",
    "variety_inputs = layers.Input(shape=(num_classes,))\n",
    "merged_layer = layers.concatenate([bow_inputs, variety_inputs])\n",
    "merged_layer = layers.Dense(256, activation='relu')(merged_layer)\n",
    "predictions = layers.Dense(1)(merged_layer)\n",
    "wide_model = keras.Model(inputs=[bow_inputs, variety_inputs], outputs=predictions)"
   ]
  },
  {
   "cell_type": "code",
   "execution_count": 13,
   "metadata": {
    "collapsed": true
   },
   "outputs": [],
   "source": [
    "wide_model.compile(loss='mse', optimizer='adam', metrics=['accuracy'])"
   ]
  },
  {
   "cell_type": "code",
   "execution_count": 14,
   "metadata": {
    "collapsed": true
   },
   "outputs": [],
   "source": [
    "# Deep model feature: word embeddings of wine descriptions\n",
    "train_embed = tokenize.texts_to_sequences(description_train)\n",
    "test_embed = tokenize.texts_to_sequences(description_test)\n",
    "\n",
    "max_seq_length = 170\n",
    "train_embed = keras.preprocessing.sequence.pad_sequences(\n",
    "    train_embed, maxlen=max_seq_length, padding=\"post\")\n",
    "test_embed = keras.preprocessing.sequence.pad_sequences(\n",
    "    test_embed, maxlen=max_seq_length, padding=\"post\")\n"
   ]
  },
  {
   "cell_type": "code",
   "execution_count": 15,
   "metadata": {
    "collapsed": true
   },
   "outputs": [],
   "source": [
    "# Define our deep model with the Functional API\n",
    "deep_inputs = layers.Input(shape=(max_seq_length,))\n",
    "embedding = layers.Embedding(vocab_size, 8, input_length=max_seq_length)(deep_inputs)\n",
    "embedding = layers.Flatten()(embedding)\n",
    "embed_out = layers.Dense(1)(embedding)\n",
    "deep_model = keras.Model(inputs=deep_inputs, outputs=embed_out)"
   ]
  },
  {
   "cell_type": "code",
   "execution_count": 16,
   "metadata": {
    "collapsed": true
   },
   "outputs": [],
   "source": [
    "deep_model.compile(loss='mse',\n",
    "                       optimizer='adam',\n",
    "                       metrics=['accuracy'])"
   ]
  },
  {
   "cell_type": "code",
   "execution_count": 17,
   "metadata": {},
   "outputs": [],
   "source": [
    "# Combine wide and deep into one model\n",
    "merged_out = layers.concatenate([wide_model.output, deep_model.output])\n",
    "merged_out = layers.Dense(1)(merged_out)\n",
    "combined_model = keras.Model(wide_model.input + [deep_model.input], merged_out)\n",
    "\n",
    "combined_model.compile(loss='mse',\n",
    "                       optimizer='adam',\n",
    "                       metrics=['accuracy'])"
   ]
  },
  {
   "cell_type": "code",
   "execution_count": 18,
   "metadata": {},
   "outputs": [
    {
     "name": "stdout",
     "output_type": "stream",
     "text": [
      "Epoch 1/10\n",
      "64856/64856 [==============================] - 37s 578us/step - loss: 1019.4777 - acc: 0.0465\n",
      "Epoch 2/10\n",
      "64856/64856 [==============================] - 37s 568us/step - loss: 17.1231 - acc: 0.1023\n",
      "Epoch 3/10\n",
      "64856/64856 [==============================] - 37s 564us/step - loss: 7.0299 - acc: 0.15150s - loss: 7.0456 - acc: 0\n",
      "Epoch 4/10\n",
      "64856/64856 [==============================] - 37s 563us/step - loss: 4.1434 - acc: 0.1999\n",
      "Epoch 5/10\n",
      "64856/64856 [==============================] - 37s 568us/step - loss: 3.2240 - acc: 0.2263\n",
      "Epoch 6/10\n",
      "64856/64856 [==============================] - 36s 560us/step - loss: 2.8575 - acc: 0.2411\n",
      "Epoch 7/10\n",
      "64856/64856 [==============================] - 36s 560us/step - loss: 2.6664 - acc: 0.2490\n",
      "Epoch 8/10\n",
      "64856/64856 [==============================] - 36s 562us/step - loss: 2.5420 - acc: 0.2547\n",
      "Epoch 9/10\n",
      "64856/64856 [==============================] - 37s 567us/step - loss: 2.4553 - acc: 0.2587\n",
      "Epoch 10/10\n",
      "64856/64856 [==============================] - 37s 568us/step - loss: 2.3869 - acc: 0.2643\n"
     ]
    },
    {
     "data": {
      "text/plain": [
       "<tensorflow.python.keras._impl.keras.callbacks.History at 0x1a1ccfccf8>"
      ]
     },
     "execution_count": 18,
     "metadata": {},
     "output_type": "execute_result"
    }
   ],
   "source": [
    "# Run training\n",
    "combined_model.fit([description_bow_train, variety_train] + [train_embed], labels_train, epochs=10, batch_size=128)"
   ]
  },
  {
   "cell_type": "code",
   "execution_count": 19,
   "metadata": {},
   "outputs": [
    {
     "name": "stdout",
     "output_type": "stream",
     "text": [
      "16214/16214 [==============================] - 3s 201us/step\n"
     ]
    },
    {
     "data": {
      "text/plain": [
       "[3.0197736104407853, 0.23461206362480386]"
      ]
     },
     "execution_count": 19,
     "metadata": {},
     "output_type": "execute_result"
    }
   ],
   "source": [
    "combined_model.evaluate([description_bow_test, variety_test] + [test_embed], labels_test, batch_size=128)"
   ]
  },
  {
   "cell_type": "code",
   "execution_count": 20,
   "metadata": {
    "collapsed": true
   },
   "outputs": [],
   "source": [
    "# Generate predictions\n",
    "predictions = combined_model.predict([description_bow_test, variety_test] + [test_embed])"
   ]
  },
  {
   "cell_type": "code",
   "execution_count": 21,
   "metadata": {},
   "outputs": [
    {
     "name": "stdout",
     "output_type": "stream",
     "text": [
      "With 50% of Arinto in the blend, this is rounder and richer in taste than many Vinhos Verdes. It does also have a crisp edge that comes from the citrus tang. The general effect is bright while full in the mouth from the delicious fruit. Drink now.\n",
      "Predicted:  88.2601 Actual:  86 \n",
      "\n",
      "Aromas of green wood, herb and cherry lead to ripe but chalky feeling fruit flavors. There's some interesting things going on but a sense of astringency and bitterness proves distracting.\n",
      "Predicted:  84.7411 Actual:  86 \n",
      "\n",
      "From vines that are at least 25 years old, this wine is rounded and soft. It has red fruit concentration, a lively wine that is also full in the mouth. It is a wine that could age a few more months and will be better from late 2016.\n",
      "Predicted:  87.2306 Actual:  88 \n",
      "\n",
      "Aromas of butterscotch, spice and red fruit are followed by fleshy fruit flavors. The palate shows a pleasing sense of balance, though the tannins bring a slight grit.\n",
      "Predicted:  86.63 Actual:  89 \n",
      "\n",
      "This is a smooth and soft wine with attractive white-fruit aromas and bold acidity. It's finely textured with juicy, fresh apple and pear flavors. It is ready to drink now, but will age over the medium term.\n",
      "Predicted:  88.4718 Actual:  87 \n",
      "\n",
      "A soft and deliciously jammy wine. It has immediately attractive ripe plum and berry fruits, layered with balancing acidity. The tannins sit well in the plump cushion of the wine. Not for aging.\n",
      "Predicted:  87.4681 Actual:  88 \n",
      "\n",
      "Made from organic grapes, it offers aromas of pear, apple and citrus that carry over to the palate along with tropical fruit notes. The crisp flavors and quenching finish make this an ideal apéritif.\n",
      "Predicted:  86.9863 Actual:  86 \n",
      "\n",
      "This is a limited-production line from this venerable winery. It's a very dense, focused Cab, a little too tightly wound to pop the cork quite yet. There's a sharp pine or balsam zinginess that's a combination of smoky oak and deeply ripe cassis, fresh and zesty and dry. The wine needs time for all this to mellow. Best after 2008, and for a decade beyond.\n",
      "Predicted:  90.4596 Actual:  92 \n",
      "\n",
      "Nearly equal parts Merlot and Cabernet Franc, this dusty red also makes use of 26% Syrah, 3% Cabernet Sauvignon and 3% unidentified as other. A straightforward wine, it's juicy in blackberry and chalky chocolate.\n",
      "Predicted:  85.3711 Actual:  89 \n",
      "\n",
      "One of Amirault's single parcel wines, this is a rich and smoothly tannic. There is a black fruit and smoky wood element, while big juicy fruits dominate the firm structure, giving a wine that has both potential and drinkability sooner. Age this powerful wine for 4–5 years.\n",
      "Predicted:  91.8556 Actual:  93 \n",
      "\n",
      "A taste of juicy red cherry provides a brightness of acidity to this wine, a 100% varietal aged in entirely French oak. Soft, integrated tannins form a foundation around dried herbal notes and black pepper, working seamlessly together to an elegant end.\n",
      "Predicted:  88.6808 Actual:  88 \n",
      "\n",
      "This wine is tough, extracted and still very bitter. The fruit is there, well behind the tannic front in this Merlot/Malbec blend. Give the wine until 2017 and decant although it is likely to remain tough. A Châteaux Solidaires wine.\n",
      "Predicted:  84.0534 Actual:  83 \n",
      "\n",
      "The fruit shows pears, some high tones, some bitter rind. The style is fruit forward, with flavors of pears and citrus, leading to a light, toasty finish.\n",
      "Predicted:  85.0541 Actual:  86 \n",
      "\n",
      "This rather soft and approachable wine offers tart green apple fruit with a delicate hint of honey and brown sugar. That sweetness is not to say it's a dessert wine: there's plenty of backing acidity. It's just a nice gentle nuance.\n",
      "Predicted:  87.0298 Actual:  88 \n",
      "\n",
      "This is a stunning, well-balanced late-harvest selection that's sure to be a welcome addition to any dessert course. Notes of ginger and sweet baking spice lift the baked-apple, peach and apricot-preserve fruit core. A kiss of honeyed sweetness and a soft, candied orange-peel flavor lingers on the close. Ample acidity keeps the palate fresh and lifted.\n",
      "Predicted:  92.2441 Actual:  90 \n",
      "\n",
      "Round fruit flavors meld melon, pears and apricots. Partial barrel fermentation smoothes it all out and adds just a touch of vanilla spice. It's a lovely choice for a Chardonnay alternative that will match appropriately with a variety of food.\n",
      "Predicted:  88.6492 Actual:  88 \n",
      "\n",
      "Chapuy is a négociant based in Mesnil-sur-Oger in the Chardonnay vineyards of the Côte des Blancs. This wine, made from grapes sourced exclusively from grand cru vineyards, is all citrus, mineral and apple skin flavors. It's a tight, taut effort with a crisp texture and a note of grapefruit on the finish. Worth aging for a few months.\n",
      "Predicted:  90.0974 Actual:  90 \n",
      "\n",
      "This wine starts with a sexy nose—dried herbs, plum, balsamic, pepper— and on the palate, marries fresh fruit and dry spice with an herbal spin. Balanced and approachable, and a good sip on its own.\n",
      "Predicted:  85.6434 Actual:  87 \n",
      "\n",
      "Made of 90% Sangiovese, 5% Colorino and 5% Merlot, this opens with black-skinned fruit and Mediterranean herb scents. Black plum fruit with a tinge of cinnamon leads the straightforward palate, structured by smooth tannins. Enjoy soon.\n",
      "Predicted:  86.1415 Actual:  88 \n",
      "\n",
      "This is as fine a rosé sparkling wine as has ever been produced in California. Almost 50-50 Chardonnay and Pinot Noir, it has rich flavors of cherries, raspberries, vanilla, toast and creamy lees, in the style of Champagne, and is completely dry and very crisp in acidity. Fabulously drinkable now, it should develop well over the next 6–8 years.\n",
      "Predicted:  92.393 Actual:  94 \n",
      "\n",
      "Plum and raspberry aromas are wiry in nature and “red” in character. The wine feels healthy and not overly heavy, with roasted, slightly herbal flavors of berry fruits and creamy oak. A spicy, lightly herbal finish ends this Malbec-Syrah-Merlot blend in solid fashion. Drink through 2015.\n",
      "Predicted:  88.5127 Actual:  90 \n",
      "\n",
      "Pungent, feline aromas of sweat and cactus set up a sharp, citric palate that's loaded to the brim with acidity. Austere flavors of passion fruit and lime end with a note of mango along with a wave of citric burn.\n",
      "Predicted:  84.4901 Actual:  85 \n",
      "\n",
      "A nice Syrah, rich in berries, licorice, Dr. Pepper cola and spices, with soft, luxurious tannins. It's a little uncomplicated and sweet, but easy to drink now.\n",
      "Predicted:  86.8648 Actual:  86 \n",
      "\n",
      "Delicate whiffs of spice and pine lend depth to crisp-tart white peach and grapefruit flavors in this spry yet penetrating Riesling. Dry on the palate, it's finely textured, as if etched by its acidity and stony mineral tones. It finishes with juicy, concentrated stone fruit flair. Drinks well now but should meld beautifully through 2024.\n",
      "Predicted:  94.107 Actual:  94 \n",
      "\n",
      "A richly liquorous wine, ripe and packed with harmonious sweet textures. At the same time over the ripe structure there is a layer of lively lemon, spice and ginger, spiked with fresh tangerines. The end result is smooth, balanced and vibrant.\n",
      "Predicted:  92.4005 Actual:  93 \n",
      "\n",
      "While a touch candied and confected in style, this Cabernet Sauvignon is chock full of ripe, rich black cherry and berry flavors. Plush and juicy, it's best enjoyed in its youth.\n",
      "Predicted:  87.344 Actual:  86 \n",
      "\n",
      "Sweet caramelized flavors of crème brûlée dominate in this wine that is showy in oak with sharp layers of green apple, melon and lime.\n",
      "Predicted:  86.0062 Actual:  84 \n",
      "\n",
      "Spicy and stout on the nose, this delivers graphite, blackberry and cassis aromas. The palate is young, choppy and tannic in feel, with racy, raw flavors of ripe tomato and blackberry accented by carob and chocolate. Dry tannins on the finish support lightly baked berry flavors. Drink through 2017.\n",
      "Predicted:  90.1209 Actual:  89 \n",
      "\n",
      "Fire up the grill, or pan fry a juicy steak to eat with this robust red wine, a Bordeaux blend with 24% Syrah. It's bone dry and tannic and juicy in berries, cherries, currants, leather and herbs, and while it's an easy sipper, the structure was harder to achieve than you might think.\n",
      "Predicted:  85.7601 Actual:  87 \n",
      "\n",
      "Smooth, creamy and lightly perfumed, this wine is packed with apple, pear and yellow fruit flavors that are topped with acidity. Well balanced, it is ready to drink.\n",
      "Predicted:  87.0833 Actual:  86 \n",
      "\n",
      "Although the wine is mature, it also has freshness that comes through strongly as aromatic and yellow-fruit driven. The acidity is intense, full of character while fruitiness continues right to the end.\n",
      "Predicted:  88.6299 Actual:  90 \n",
      "\n",
      "A flowery Chardonnay with delicate, almost evanescent flavors of buttercup, buttered toast and grapefruit. It seems overly strong in oak and weak in fruit, showing a minerally spine and raw alcohol. Clean and bone dry, but lacks richness and vibrancy.\n",
      "Predicted:  84.7237 Actual:  85 \n",
      "\n",
      "Relatively light for the variety, this wine has lots of tasty, almost jammy fruit flavors, medium tannins and a smooth but gripping texture. It's very good to drink now.\n",
      "Predicted:  86.052 Actual:  88 \n",
      "\n",
      "Light aromas of white flowers and lemon show on the very restrained nose of this bottling by the pioneering Niven family. The acidity is well integrated on the sip, and there is subtle tannic framing, with delicate lemon water and chamomile flavors.\n",
      "Predicted:  88.0345 Actual:  89 \n",
      "\n",
      "From the little-known region of Padthaway, this Cabernet starts off with some very promising, perfumed aromas of mint and cassis, but then shows touches of chocolate and raisined fruit on the palate. It's soft and mouthfilling—an easy-drinking Cab to consume on the young side.\n",
      "Predicted:  86.1238 Actual:  87 \n",
      "\n",
      "As sweet as a dessert wine, with simple pineapple jam flavors.\n",
      "Predicted:  81.6972 Actual:  82 \n",
      "\n",
      "It's rustic, but there's something balanced and enjoyable in this wine. Combines blackberry and olive notes with some green, stalky flavors that add interest. It's absolutely dry, not just in the official sense, but in the mouth, with a dusting of tannins. Best Buy.\n",
      "Predicted:  86.0985 Actual:  87 \n",
      "\n",
      "A finesse style, elegant and soft. Smooth, fruit forward, and perfectly balanced. Nothing out of proportion, no hint of stem or harsh or bitter tannins. There is a lovely purity of fruit, mixed red fruits, plum and cherry. A mere hint of chocolate shavings, but the oak is minimal, perhaps too minimal.\n",
      "Predicted:  88.237 Actual:  90 \n",
      "\n",
      "This big, ripe wine features red fruits, acidity and a touch of young tannins. It is structured, with chocolate and some licorice flavors that are balanced with the strawberry and ripe tannins. Drink from 2020.\n",
      "Predicted:  89.6295 Actual:  91 \n",
      "\n",
      "This feels dramatic from the start. It's silky and refined in texture, with brisk acidity and a bite of tannic astringency. It shows a rich core of cherry, cola and sandalwood flavors. This should hang in there over the next five years.\n",
      "Predicted:  90.9346 Actual:  90 \n",
      "\n"
     ]
    }
   ],
   "source": [
    "# Compare predictions with actual values for the first few items in our test dataset\n",
    "num_predictions = 40\n",
    "diff = 0\n",
    "\n",
    "for i in range(num_predictions):\n",
    "    val = predictions[i]\n",
    "    print(description_test.iloc[i])\n",
    "    print('Predicted: ', val[0], 'Actual: ', labels_test.iloc[i], '\\n')\n",
    "    diff += abs(val[0] - labels_test.iloc[i])"
   ]
  },
  {
   "cell_type": "code",
   "execution_count": 22,
   "metadata": {},
   "outputs": [
    {
     "name": "stdout",
     "output_type": "stream",
     "text": [
      "Average prediction difference:  1.21240730286\n"
     ]
    }
   ],
   "source": [
    "# Compare the average difference between actual price and the model's predicted price\n",
    "print('Average prediction difference: ', diff / num_predictions)"
   ]
  },
  {
   "cell_type": "code",
   "execution_count": null,
   "metadata": {
    "collapsed": true
   },
   "outputs": [],
   "source": []
  }
 ],
 "metadata": {
  "kernelspec": {
   "display_name": "Python 3",
   "language": "python",
   "name": "python3"
  },
  "language_info": {
   "codemirror_mode": {
    "name": "ipython",
    "version": 3
   },
   "file_extension": ".py",
   "mimetype": "text/x-python",
   "name": "python",
   "nbconvert_exporter": "python",
   "pygments_lexer": "ipython3",
   "version": "3.6.5"
  }
 },
 "nbformat": 4,
 "nbformat_minor": 2
}
